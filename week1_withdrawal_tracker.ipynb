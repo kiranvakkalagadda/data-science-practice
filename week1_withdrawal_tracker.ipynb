{
  "nbformat": 4,
  "nbformat_minor": 0,
  "metadata": {
    "colab": {
      "provenance": [],
      "authorship_tag": "ABX9TyNVZURS/OO87pkYTC9th6kB",
      "include_colab_link": true
    },
    "kernelspec": {
      "name": "python3",
      "display_name": "Python 3"
    },
    "language_info": {
      "name": "python"
    }
  },
  "cells": [
    {
      "cell_type": "markdown",
      "metadata": {
        "id": "view-in-github",
        "colab_type": "text"
      },
      "source": [
        "<a href=\"https://colab.research.google.com/github/kiranvakkalagadda/data-science-practice/blob/main/week1_withdrawal_tracker.ipynb\" target=\"_parent\"><img src=\"https://colab.research.google.com/assets/colab-badge.svg\" alt=\"Open In Colab\"/></a>"
      ]
    },
    {
      "cell_type": "code",
      "execution_count": null,
      "metadata": {
        "colab": {
          "base_uri": "https://localhost:8080/"
        },
        "id": "-7dcMHWXiJ0I",
        "outputId": "3f12f43c-c195-4a36-9ad1-36b224405d7a"
      },
      "outputs": [
        {
          "output_type": "stream",
          "name": "stdout",
          "text": [
            "Customer: Saikiran\n",
            "Account Number: 123456789\n",
            "Available Balance: 50000.0\n"
          ]
        }
      ],
      "source": [
        "#Step 1\n",
        "# Create variables\n",
        "\n",
        "customer_name = \"Saikiran\"\n",
        "account_number = 123456789\n",
        "balance = 50000.0  # starting balance in ₹\n",
        "\n",
        "# Print the values\n",
        "print(\"Customer:\", customer_name)\n",
        "print(\"Account Number:\", account_number)\n",
        "print(\"Available Balance:\", balance)\n"
      ]
    },
    {
      "cell_type": "code",
      "source": [
        "#Step 2(collecting the basic data from the user)\n",
        "customer_name = input(\"Enter your name: \")\n",
        "account_number = input(\"Enter your account number: \")\n",
        "balance = float(input(\"Enter your starting balance (₹): \"))\n",
        "\n",
        "print(\"\\nCustomer:\", customer_name)\n",
        "print(\"Account Number:\", account_number)\n",
        "print(\"Available Balance: ₹\", balance)\n"
      ],
      "metadata": {
        "colab": {
          "base_uri": "https://localhost:8080/"
        },
        "id": "U1tXyRUuiu0_",
        "outputId": "c5b78db5-8ac0-4ea2-a010-7d9e7e52bdbf"
      },
      "execution_count": null,
      "outputs": [
        {
          "output_type": "stream",
          "name": "stdout",
          "text": [
            "Enter your name: Saikiran\n",
            "Enter your account number: 3636267686\n",
            "Enter your starting balance (₹): 6000\n",
            "\n",
            "Customer: Saikiran\n",
            "Account Number: 3636267686\n",
            "Available Balance: ₹ 6000.0\n"
          ]
        }
      ]
    },
    {
      "cell_type": "code",
      "source": [
        "#Step 3 (Grabbing the transaction details,amount withdraws,balance after withdraw)\n",
        "withdrawals = []\n",
        "\n",
        "n = int(input(\"How many withdrawals did the customer make? \"))\n",
        "\n",
        "for i in range(n):\n",
        "    print(f\"\\nWithdrawal {i+1}\")\n",
        "    amount = float(input(\"Enter amount withdrawn (₹): \"))\n",
        "    date = input(\"Enter date of withdrawal (DD-MM-YYYY): \")\n",
        "\n",
        "    # Store this withdrawal\n",
        "    withdrawals.append({\"date\": date, \"amount\": amount})\n",
        "\n",
        "    # Subtract from balance\n",
        "    balance -= amount\n",
        "\n",
        "print(\"\\nFinal Balance: ₹\", balance)\n",
        "print(\"All Withdrawals:\")\n",
        "print(withdrawals)\n"
      ],
      "metadata": {
        "colab": {
          "base_uri": "https://localhost:8080/"
        },
        "id": "KxKtX3jKjbOe",
        "outputId": "61888f7d-4913-4849-ccc3-74b13f8bd1e9"
      },
      "execution_count": null,
      "outputs": [
        {
          "output_type": "stream",
          "name": "stdout",
          "text": [
            "How many withdrawals did the customer make? 3\n",
            "\n",
            "Withdrawal 1\n",
            "Enter amount withdrawn (₹): 1000\n",
            "Enter date of withdrawal (DD-MM-YYYY): 27-07-2025\n",
            "\n",
            "Withdrawal 2\n",
            "Enter amount withdrawn (₹): 1000\n",
            "Enter date of withdrawal (DD-MM-YYYY): 29-07-2025\n",
            "\n",
            "Withdrawal 3\n",
            "Enter amount withdrawn (₹): 1000\n",
            "Enter date of withdrawal (DD-MM-YYYY): 30-08-2025\n",
            "\n",
            "Final Balance: ₹ 2150.0\n",
            "All Withdrawals:\n",
            "[{'date': '27-07-2025', 'amount': 1000.0}, {'date': '29-07-2025', 'amount': 1000.0}, {'date': '30-08-2025', 'amount': 1000.0}]\n"
          ]
        }
      ]
    },
    {
      "cell_type": "code",
      "source": [
        "#Step 4 to save all the received info into a variable called customer_info.\n",
        "\n",
        "customer_info = {\n",
        "    \"name\": customer_name,\n",
        "    \"account_no\": account_number,\n",
        "    \"starting_balance\": balance + sum([w[\"amount\"] for w in withdrawals]),\n",
        "    \"withdrawals\": withdrawals,\n",
        "    \"final_balance\": balance\n",
        "}\n",
        "\n",
        "print(\"\\nCustomer Summary:\")\n",
        "print(customer_info)\n"
      ],
      "metadata": {
        "colab": {
          "base_uri": "https://localhost:8080/"
        },
        "id": "Qvydc2jilDzs",
        "outputId": "7186df03-e501-47aa-a454-5f1ebd690153"
      },
      "execution_count": null,
      "outputs": [
        {
          "output_type": "stream",
          "name": "stdout",
          "text": [
            "\n",
            "Customer Summary:\n",
            "{'name': 'Saikiran', 'account_no': 123456789, 'starting_balance': 53000.0, 'withdrawals': [{'date': '27-07-2025', 'amount': 1000.0}, {'date': '29-07-2025', 'amount': 1000.0}, {'date': '30-08-2025', 'amount': 1000.0}], 'final_balance': 50000.0}\n"
          ]
        }
      ]
    }
  ]
}